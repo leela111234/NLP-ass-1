{
  "nbformat": 4,
  "nbformat_minor": 0,
  "metadata": {
    "colab": {
      "name": "NLP assessment 1.ipynb",
      "provenance": []
    },
    "kernelspec": {
      "name": "python3",
      "display_name": "Python 3"
    },
    "language_info": {
      "name": "python"
    }
  },
  "cells": [
    {
      "cell_type": "markdown",
      "source": [
        "TOKENIZATION"
      ],
      "metadata": {
        "id": "zzu5soDblX45"
      }
    },
    {
      "cell_type": "markdown",
      "source": [
        "WORD TOKENIZATION"
      ],
      "metadata": {
        "id": "8JwOJdV_mO3I"
      }
    },
    {
      "cell_type": "code",
      "source": [
        "text = \"I am leelavathi\"\n",
        "text.split()"
      ],
      "metadata": {
        "colab": {
          "base_uri": "https://localhost:8080/"
        },
        "id": "RuYSLB4vnhKy",
        "outputId": "5a82f397-48a2-4056-acc7-ae1d65247bdd"
      },
      "execution_count": 1,
      "outputs": [
        {
          "output_type": "execute_result",
          "data": {
            "text/plain": [
              "['I', 'am', 'leelavathi']"
            ]
          },
          "metadata": {},
          "execution_count": 1
        }
      ]
    },
    {
      "cell_type": "code",
      "source": [
        "text = \"Natural language processing is the driving force behind machine intelligence . NLP refers to the branch of artificial intelligence.\"\n",
        "text.split(' . ') "
      ],
      "metadata": {
        "colab": {
          "base_uri": "https://localhost:8080/"
        },
        "id": "62CIRFlUldNv",
        "outputId": "a9ed78c6-d64c-4966-d7ae-a05c314b4994"
      },
      "execution_count": 2,
      "outputs": [
        {
          "output_type": "execute_result",
          "data": {
            "text/plain": [
              "['Natural language processing is the driving force behind machine intelligence',\n",
              " 'NLP refers to the branch of artificial intelligence.']"
            ]
          },
          "metadata": {},
          "execution_count": 2
        }
      ]
    },
    {
      "cell_type": "markdown",
      "source": [
        "TOKENIZATION USING REGULAR EXPRESSION (re)"
      ],
      "metadata": {
        "id": "ArhhNHd0o4hE"
      }
    },
    {
      "cell_type": "code",
      "execution_count": 3,
      "metadata": {
        "id": "Qr6CBuzNkFow"
      },
      "outputs": [],
      "source": [
        "import re"
      ]
    },
    {
      "cell_type": "code",
      "source": [
        "text = \"Natural language processing is the driving force behind machine intelligence . NLP refers to the branch of artificial intelligence.\"\n",
        "text= re.compile('[.?!]').split(text)\n",
        "text"
      ],
      "metadata": {
        "id": "0NJ8p6zQpCBZ",
        "colab": {
          "base_uri": "https://localhost:8080/"
        },
        "outputId": "421307ce-cde1-4b03-d5de-831c0de0f96a"
      },
      "execution_count": 4,
      "outputs": [
        {
          "output_type": "execute_result",
          "data": {
            "text/plain": [
              "['Natural language processing is the driving force behind machine intelligence ',\n",
              " ' NLP refers to the branch of artificial intelligence',\n",
              " '']"
            ]
          },
          "metadata": {},
          "execution_count": 4
        }
      ]
    },
    {
      "cell_type": "markdown",
      "source": [
        "TOKENIZATION USING NLTK"
      ],
      "metadata": {
        "id": "Rmsw5VUf-tNa"
      }
    },
    {
      "cell_type": "code",
      "source": [
        "import nltk"
      ],
      "metadata": {
        "id": "a_LwvSzz_vKh"
      },
      "execution_count": 5,
      "outputs": []
    },
    {
      "cell_type": "code",
      "source": [
        "from nltk.tokenize import word_tokenize"
      ],
      "metadata": {
        "id": "QEsewhdQ-yp1"
      },
      "execution_count": 6,
      "outputs": []
    },
    {
      "cell_type": "code",
      "source": [
        "nltk.download(\"punkt\")"
      ],
      "metadata": {
        "colab": {
          "base_uri": "https://localhost:8080/"
        },
        "id": "2VWWA9vN_oJD",
        "outputId": "425f8c54-b6f8-4733-a776-08a39078298e"
      },
      "execution_count": 7,
      "outputs": [
        {
          "output_type": "stream",
          "name": "stdout",
          "text": [
            "[nltk_data] Downloading package punkt to /root/nltk_data...\n",
            "[nltk_data]   Unzipping tokenizers/punkt.zip.\n"
          ]
        },
        {
          "output_type": "execute_result",
          "data": {
            "text/plain": [
              "True"
            ]
          },
          "metadata": {},
          "execution_count": 7
        }
      ]
    },
    {
      "cell_type": "code",
      "source": [
        "text = \"Natural language processing is the driving force behind machine intelligence . NLP refers to the branch of artificial intelligence.\"\n",
        "word_tokenize(text)"
      ],
      "metadata": {
        "colab": {
          "base_uri": "https://localhost:8080/"
        },
        "id": "IPSzsb0W-hzG",
        "outputId": "ba217317-10f1-4f17-928a-29ed2b428514"
      },
      "execution_count": 8,
      "outputs": [
        {
          "output_type": "execute_result",
          "data": {
            "text/plain": [
              "['Natural',\n",
              " 'language',\n",
              " 'processing',\n",
              " 'is',\n",
              " 'the',\n",
              " 'driving',\n",
              " 'force',\n",
              " 'behind',\n",
              " 'machine',\n",
              " 'intelligence',\n",
              " '.',\n",
              " 'NLP',\n",
              " 'refers',\n",
              " 'to',\n",
              " 'the',\n",
              " 'branch',\n",
              " 'of',\n",
              " 'artificial',\n",
              " 'intelligence',\n",
              " '.']"
            ]
          },
          "metadata": {},
          "execution_count": 8
        }
      ]
    },
    {
      "cell_type": "code",
      "source": [
        "from nltk.tokenize import sent_tokenize\n",
        "text = \"Natural language processing is the driving force behind machine intelligence . NLP refers to the branch of artificial intelligence.\"\n",
        "sent_tokenize(text)"
      ],
      "metadata": {
        "colab": {
          "base_uri": "https://localhost:8080/"
        },
        "id": "tmt_Oc4n_dc2",
        "outputId": "03848b3b-04c9-4a5b-95e0-68d67c2fb6d4"
      },
      "execution_count": 9,
      "outputs": [
        {
          "output_type": "execute_result",
          "data": {
            "text/plain": [
              "['Natural language processing is the driving force behind machine intelligence .',\n",
              " 'NLP refers to the branch of artificial intelligence.']"
            ]
          },
          "metadata": {},
          "execution_count": 9
        }
      ]
    },
    {
      "cell_type": "markdown",
      "source": [
        "TOKENIZATION USING KERAS"
      ],
      "metadata": {
        "id": "hfBTuKGiAXXg"
      }
    },
    {
      "cell_type": "code",
      "source": [
        "import keras"
      ],
      "metadata": {
        "id": "HM_AJOx-Ac-n"
      },
      "execution_count": 10,
      "outputs": []
    },
    {
      "cell_type": "code",
      "source": [
        "from keras.preprocessing.text import text_to_word_sequence\n",
        "text = \"Natural language processing is the driving force behind machine intelligence . NLP refers to the branch of artificial intelligence.\"\n",
        "text1 = text_to_word_sequence(text)\n",
        "text1"
      ],
      "metadata": {
        "colab": {
          "base_uri": "https://localhost:8080/"
        },
        "id": "6DLJtcJBAIX9",
        "outputId": "6a547b6b-5225-4447-a217-a71f3283a091"
      },
      "execution_count": 11,
      "outputs": [
        {
          "output_type": "execute_result",
          "data": {
            "text/plain": [
              "['natural',\n",
              " 'language',\n",
              " 'processing',\n",
              " 'is',\n",
              " 'the',\n",
              " 'driving',\n",
              " 'force',\n",
              " 'behind',\n",
              " 'machine',\n",
              " 'intelligence',\n",
              " 'nlp',\n",
              " 'refers',\n",
              " 'to',\n",
              " 'the',\n",
              " 'branch',\n",
              " 'of',\n",
              " 'artificial',\n",
              " 'intelligence']"
            ]
          },
          "metadata": {},
          "execution_count": 11
        }
      ]
    },
    {
      "cell_type": "markdown",
      "source": [
        "TOKENIZATION USING GENSIM"
      ],
      "metadata": {
        "id": "SMIqdY4bCU-Z"
      }
    },
    {
      "cell_type": "code",
      "source": [
        "import gensim"
      ],
      "metadata": {
        "id": "BcnwhWgXCa26"
      },
      "execution_count": 12,
      "outputs": []
    },
    {
      "cell_type": "code",
      "source": [
        "from gensim.utils import tokenize"
      ],
      "metadata": {
        "id": "kwsbjhAXCPPs"
      },
      "execution_count": 13,
      "outputs": []
    },
    {
      "cell_type": "code",
      "source": [
        "text = \"Natural language processing is the driving force behind machine intelligence . NLP refers to the branch of artificial intelligence.\"\n",
        "list(tokenize(text))"
      ],
      "metadata": {
        "colab": {
          "base_uri": "https://localhost:8080/"
        },
        "id": "u8LJ6loICkXx",
        "outputId": "de9a5de7-a5e1-4dd7-e978-ecab7994acc3"
      },
      "execution_count": 14,
      "outputs": [
        {
          "output_type": "execute_result",
          "data": {
            "text/plain": [
              "['Natural',\n",
              " 'language',\n",
              " 'processing',\n",
              " 'is',\n",
              " 'the',\n",
              " 'driving',\n",
              " 'force',\n",
              " 'behind',\n",
              " 'machine',\n",
              " 'intelligence',\n",
              " 'NLP',\n",
              " 'refers',\n",
              " 'to',\n",
              " 'the',\n",
              " 'branch',\n",
              " 'of',\n",
              " 'artificial',\n",
              " 'intelligence']"
            ]
          },
          "metadata": {},
          "execution_count": 14
        }
      ]
    },
    {
      "cell_type": "markdown",
      "source": [
        "STEMMING"
      ],
      "metadata": {
        "id": "E4Vc1nwqDqsQ"
      }
    },
    {
      "cell_type": "markdown",
      "source": [
        "PORTER STEMMER()"
      ],
      "metadata": {
        "id": "kSmt9w4LD7xK"
      }
    },
    {
      "cell_type": "code",
      "source": [
        "from nltk.stem import PorterStemmer\n",
        "porter = PorterStemmer()\n",
        "words = ['Connects','Connecting','Connected','Connections']\n",
        "for word in words:\n",
        "    print(word,\"--->\",porter.stem(word))"
      ],
      "metadata": {
        "colab": {
          "base_uri": "https://localhost:8080/"
        },
        "id": "7_62WtZcECQQ",
        "outputId": "262b4a0e-547e-415f-e448-0b9e43ecbd84"
      },
      "execution_count": 15,
      "outputs": [
        {
          "output_type": "stream",
          "name": "stdout",
          "text": [
            "Connects ---> connect\n",
            "Connecting ---> connect\n",
            "Connected ---> connect\n",
            "Connections ---> connect\n"
          ]
        }
      ]
    },
    {
      "cell_type": "markdown",
      "source": [
        "SNOWBALL STEMMER()"
      ],
      "metadata": {
        "id": "Dqfm2SSCEVrq"
      }
    },
    {
      "cell_type": "code",
      "source": [
        "from nltk.stem import SnowballStemmer\n",
        "snowball = SnowballStemmer(language='english')\n",
        "words = ['generous','generate','generously','generation']\n",
        "for word in words:\n",
        "    print(word,\"--->\",snowball.stem(word))"
      ],
      "metadata": {
        "colab": {
          "base_uri": "https://localhost:8080/"
        },
        "id": "2LdRvGiyEZt8",
        "outputId": "53af2c6b-b5f8-44b7-d2ad-008c38072c2c"
      },
      "execution_count": 16,
      "outputs": [
        {
          "output_type": "stream",
          "name": "stdout",
          "text": [
            "generous ---> generous\n",
            "generate ---> generat\n",
            "generously ---> generous\n",
            "generation ---> generat\n"
          ]
        }
      ]
    },
    {
      "cell_type": "markdown",
      "source": [
        "LANCASTER STEMMER()"
      ],
      "metadata": {
        "id": "ZzFszH_4Eif7"
      }
    },
    {
      "cell_type": "code",
      "source": [
        "from nltk.stem import LancasterStemmer\n",
        "lancaster = LancasterStemmer()\n",
        "words = ['eating','eats','eaten','puts','putting']\n",
        "for word in words:\n",
        "    print(word,\"--->\",lancaster.stem(word))"
      ],
      "metadata": {
        "colab": {
          "base_uri": "https://localhost:8080/"
        },
        "id": "OClH1OZiDt0w",
        "outputId": "6c913982-b133-443d-f0d2-876f9580bcaf"
      },
      "execution_count": 17,
      "outputs": [
        {
          "output_type": "stream",
          "name": "stdout",
          "text": [
            "eating ---> eat\n",
            "eats ---> eat\n",
            "eaten ---> eat\n",
            "puts ---> put\n",
            "putting ---> put\n"
          ]
        }
      ]
    },
    {
      "cell_type": "markdown",
      "source": [
        "LEMMATIZATION"
      ],
      "metadata": {
        "id": "K3CBNFWeFbRA"
      }
    },
    {
      "cell_type": "code",
      "source": [
        "from textblob import TextBlob,Word"
      ],
      "metadata": {
        "id": "NtxEejf-Cvao"
      },
      "execution_count": 18,
      "outputs": []
    },
    {
      "cell_type": "code",
      "source": [
        "nltk.download('wordnet')"
      ],
      "metadata": {
        "colab": {
          "base_uri": "https://localhost:8080/"
        },
        "id": "7QzCSdTBDs8Q",
        "outputId": "4bf65afb-3391-41dc-b917-e1c3dc4db900"
      },
      "execution_count": 19,
      "outputs": [
        {
          "output_type": "stream",
          "name": "stdout",
          "text": [
            "[nltk_data] Downloading package wordnet to /root/nltk_data...\n",
            "[nltk_data]   Unzipping corpora/wordnet.zip.\n"
          ]
        },
        {
          "output_type": "execute_result",
          "data": {
            "text/plain": [
              "True"
            ]
          },
          "metadata": {},
          "execution_count": 19
        }
      ]
    },
    {
      "cell_type": "code",
      "source": [
        "listofwords = ['Connecting' , 'Puts' , 'Generation' , 'Refers']"
      ],
      "metadata": {
        "id": "FP1MMuifFiyR"
      },
      "execution_count": 20,
      "outputs": []
    },
    {
      "cell_type": "code",
      "source": [
        "for word in listofwords:\n",
        "  w = Word(word)\n",
        "  print(word + '--->' + w.lemmatize())"
      ],
      "metadata": {
        "colab": {
          "base_uri": "https://localhost:8080/"
        },
        "id": "2S5uZ6xsF3YX",
        "outputId": "9af40273-bb88-4e82-adbd-dc604eadff60"
      },
      "execution_count": 21,
      "outputs": [
        {
          "output_type": "stream",
          "name": "stdout",
          "text": [
            "Connecting--->Connecting\n",
            "Puts--->Puts\n",
            "Generation--->Generation\n",
            "Refers--->Refers\n"
          ]
        }
      ]
    },
    {
      "cell_type": "code",
      "source": [
        "from nltk.stem import WordNetLemmatizer"
      ],
      "metadata": {
        "id": "qcrzxn_hF68q"
      },
      "execution_count": 22,
      "outputs": []
    },
    {
      "cell_type": "code",
      "source": [
        "wn1=WordNetLemmatizer()"
      ],
      "metadata": {
        "id": "iS3EMJ8OF_-P"
      },
      "execution_count": 23,
      "outputs": []
    },
    {
      "cell_type": "code",
      "source": [
        "for words in listofwords:\n",
        "  print(words + '--->' + wn1.lemmatize(words))"
      ],
      "metadata": {
        "colab": {
          "base_uri": "https://localhost:8080/"
        },
        "id": "TiR9IAhiGDMS",
        "outputId": "4a99ba51-f66b-4d7d-b3d1-add93adf6fca"
      },
      "execution_count": 24,
      "outputs": [
        {
          "output_type": "stream",
          "name": "stdout",
          "text": [
            "Connecting--->Connecting\n",
            "Puts--->Puts\n",
            "Generation--->Generation\n",
            "Refers--->Refers\n"
          ]
        }
      ]
    },
    {
      "cell_type": "markdown",
      "source": [
        "COSINE SIMILARITIES"
      ],
      "metadata": {
        "id": "H5jeEk3mGimp"
      }
    },
    {
      "cell_type": "code",
      "source": [
        "import en_core_web_sm"
      ],
      "metadata": {
        "id": "mcOj3M4SGHV-"
      },
      "execution_count": 25,
      "outputs": []
    },
    {
      "cell_type": "code",
      "source": [
        "nlp = en_core_web_sm.load()"
      ],
      "metadata": {
        "id": "FLCPz2itGodC"
      },
      "execution_count": 26,
      "outputs": []
    },
    {
      "cell_type": "code",
      "source": [
        "sent1 = nlp(\"I like to open my mind, but my mouth in a general discussion.\")\n",
        "sent2 = nlp(\"I like to open my mind, but not my mouth in a general discussion.\")\n",
        "print(sent2.similarity(sent1))"
      ],
      "metadata": {
        "colab": {
          "base_uri": "https://localhost:8080/"
        },
        "id": "1BLGTXPHGreK",
        "outputId": "ee51bc08-edbf-4cb2-ef32-b8fcdc12d68a"
      },
      "execution_count": 27,
      "outputs": [
        {
          "output_type": "stream",
          "name": "stdout",
          "text": [
            "0.9661457898093567\n"
          ]
        },
        {
          "output_type": "stream",
          "name": "stderr",
          "text": [
            "/usr/lib/python3.7/runpy.py:193: ModelsWarning: [W007] The model you're using has no word vectors loaded, so the result of the Doc.similarity method will be based on the tagger, parser and NER, which may not give useful similarity judgements. This may happen if you're using one of the small models, e.g. `en_core_web_sm`, which don't ship with word vectors and only use context-sensitive tensors. You can always add your own word vectors, or use one of the larger models instead if available.\n",
            "  \"__main__\", mod_spec)\n"
          ]
        }
      ]
    },
    {
      "cell_type": "code",
      "source": [
        "nltk.download('stopwords')"
      ],
      "metadata": {
        "colab": {
          "base_uri": "https://localhost:8080/"
        },
        "id": "rGT4nk3NHYzN",
        "outputId": "a6846c7b-4df1-4c06-ab67-5a29117121b6"
      },
      "execution_count": 28,
      "outputs": [
        {
          "output_type": "stream",
          "name": "stdout",
          "text": [
            "[nltk_data] Downloading package stopwords to /root/nltk_data...\n",
            "[nltk_data]   Unzipping corpora/stopwords.zip.\n"
          ]
        },
        {
          "output_type": "execute_result",
          "data": {
            "text/plain": [
              "True"
            ]
          },
          "metadata": {},
          "execution_count": 28
        }
      ]
    },
    {
      "cell_type": "code",
      "source": [
        "import nltk\n",
        "from nltk.corpus import stopwords"
      ],
      "metadata": {
        "id": "nFVBUBThHZkz"
      },
      "execution_count": 29,
      "outputs": []
    },
    {
      "cell_type": "code",
      "source": [
        "\n",
        "print(stopwords.words('english'))"
      ],
      "metadata": {
        "colab": {
          "base_uri": "https://localhost:8080/"
        },
        "id": "jpxIsvYeHc9g",
        "outputId": "d41e73fa-ec0e-4fec-83c3-6eb2c94fabd4"
      },
      "execution_count": 30,
      "outputs": [
        {
          "output_type": "stream",
          "name": "stdout",
          "text": [
            "['i', 'me', 'my', 'myself', 'we', 'our', 'ours', 'ourselves', 'you', \"you're\", \"you've\", \"you'll\", \"you'd\", 'your', 'yours', 'yourself', 'yourselves', 'he', 'him', 'his', 'himself', 'she', \"she's\", 'her', 'hers', 'herself', 'it', \"it's\", 'its', 'itself', 'they', 'them', 'their', 'theirs', 'themselves', 'what', 'which', 'who', 'whom', 'this', 'that', \"that'll\", 'these', 'those', 'am', 'is', 'are', 'was', 'were', 'be', 'been', 'being', 'have', 'has', 'had', 'having', 'do', 'does', 'did', 'doing', 'a', 'an', 'the', 'and', 'but', 'if', 'or', 'because', 'as', 'until', 'while', 'of', 'at', 'by', 'for', 'with', 'about', 'against', 'between', 'into', 'through', 'during', 'before', 'after', 'above', 'below', 'to', 'from', 'up', 'down', 'in', 'out', 'on', 'off', 'over', 'under', 'again', 'further', 'then', 'once', 'here', 'there', 'when', 'where', 'why', 'how', 'all', 'any', 'both', 'each', 'few', 'more', 'most', 'other', 'some', 'such', 'no', 'nor', 'not', 'only', 'own', 'same', 'so', 'than', 'too', 'very', 's', 't', 'can', 'will', 'just', 'don', \"don't\", 'should', \"should've\", 'now', 'd', 'll', 'm', 'o', 're', 've', 'y', 'ain', 'aren', \"aren't\", 'couldn', \"couldn't\", 'didn', \"didn't\", 'doesn', \"doesn't\", 'hadn', \"hadn't\", 'hasn', \"hasn't\", 'haven', \"haven't\", 'isn', \"isn't\", 'ma', 'mightn', \"mightn't\", 'mustn', \"mustn't\", 'needn', \"needn't\", 'shan', \"shan't\", 'shouldn', \"shouldn't\", 'wasn', \"wasn't\", 'weren', \"weren't\", 'won', \"won't\", 'wouldn', \"wouldn't\"]\n"
          ]
        }
      ]
    },
    {
      "cell_type": "code",
      "source": [
        "stop_words = set(stopwords.words('english'))\n",
        "from nltk.tokenize import word_tokenize\n",
        "word_tokens_1= word_tokenize(\"I like to open my mind, but my mouth in a general discussion.\")\n",
        "word_tokens_1"
      ],
      "metadata": {
        "colab": {
          "base_uri": "https://localhost:8080/"
        },
        "id": "TzneMx5_HhYy",
        "outputId": "d6c5dc67-c9bf-464f-b27e-4b8030909123"
      },
      "execution_count": 31,
      "outputs": [
        {
          "output_type": "execute_result",
          "data": {
            "text/plain": [
              "['I',\n",
              " 'like',\n",
              " 'to',\n",
              " 'open',\n",
              " 'my',\n",
              " 'mind',\n",
              " ',',\n",
              " 'but',\n",
              " 'my',\n",
              " 'mouth',\n",
              " 'in',\n",
              " 'a',\n",
              " 'general',\n",
              " 'discussion',\n",
              " '.']"
            ]
          },
          "metadata": {},
          "execution_count": 31
        }
      ]
    },
    {
      "cell_type": "code",
      "source": [
        "new_sent_1=[w for w in word_tokens_1 if w.lower() not in stop_words]\n",
        "new_sent_1 = ' '.join(str(elem) for elem in new_sent_1)\n",
        "print(new_sent_1)"
      ],
      "metadata": {
        "colab": {
          "base_uri": "https://localhost:8080/"
        },
        "id": "pkmfZsH4ICBP",
        "outputId": "7a237164-ab59-47d9-b595-85bbee44baa6"
      },
      "execution_count": 32,
      "outputs": [
        {
          "output_type": "stream",
          "name": "stdout",
          "text": [
            "like open mind , mouth general discussion .\n"
          ]
        }
      ]
    },
    {
      "cell_type": "code",
      "source": [
        "word_tokens_2= word_tokenize(\"I like to open my mind, but not my mouth in a general discussion.\")\n",
        "new_sent_2=[w for w in word_tokens_1 if w.lower() not in stop_words]\n",
        "new_sent_2 = ' '.join(str(elem) for elem in new_sent_2)\n",
        "print(new_sent_2)"
      ],
      "metadata": {
        "colab": {
          "base_uri": "https://localhost:8080/"
        },
        "id": "SQBAiF6HIcCq",
        "outputId": "b40765ff-1dd1-473c-eb8b-34d4ce8c2f8a"
      },
      "execution_count": 33,
      "outputs": [
        {
          "output_type": "stream",
          "name": "stdout",
          "text": [
            "like open mind , mouth general discussion .\n"
          ]
        }
      ]
    },
    {
      "cell_type": "code",
      "source": [
        "new_sent_1 = nlp(new_sent_1)\n",
        "new_sent_2 = nlp(new_sent_2)\n",
        "print(new_sent_2.similarity(new_sent_1))\n"
      ],
      "metadata": {
        "id": "DnQ06GD9IluV",
        "outputId": "63d7e2e0-1b4b-4e1d-efea-5fe14bc72336",
        "colab": {
          "base_uri": "https://localhost:8080/"
        }
      },
      "execution_count": 34,
      "outputs": [
        {
          "output_type": "stream",
          "name": "stdout",
          "text": [
            "1.0\n"
          ]
        }
      ]
    }
  ]
}